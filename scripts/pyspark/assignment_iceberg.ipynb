{
	"cells": [
		{
			"cell_type": "markdown",
			"id": "af791e9f-95fd-46b5-9d50-961f3e7c9fd9",
			"metadata": {},
			"source": [
				"## Home work\n",
				"Use icerberg to create and update product table, you can create some sample records for updating products."
			]
		},
		{
			"cell_type": "code",
			"execution_count": 16,
			"id": "7e263612-30ab-44ea-82f8-52ce77c32d95",
			"metadata": {
				"tags": [],
				"trusted": true,
				"vscode": {
					"languageId": "python_glue_session"
				}
			},
			"outputs": [
				{
					"name": "stdout",
					"output_type": "stream",
					"text": [
						"Setting session ID prefix to native-iceberg-sql-\n",
						"Setting Glue version to: 5.0\n",
						"Previous number of workers: 2\n",
						"Setting new number of workers to: 2\n",
						"Previous worker type: G.1X\n",
						"Setting new worker type to: G.1X\n",
						"Current idle_timeout is 60 minutes.\n",
						"idle_timeout has been set to 60 minutes.\n",
						"The following configurations have been updated: {'--conf': 'spark.sql.extensions=org.apache.iceberg.spark.extensions.IcebergSparkSessionExtensions', '--datalake-formats': 'iceberg'}\n"
					]
				}
			],
			"source": [
				"%session_id_prefix native-iceberg-sql-\n",
				"%glue_version 5.0\n",
				"%number_of_workers 2\n",
				"%worker_type G.1X\n",
				"%idle_timeout 60\n",
				"%%configure \n",
				"{\n",
				"  \"--conf\": \"spark.sql.extensions=org.apache.iceberg.spark.extensions.IcebergSparkSessionExtensions\",\n",
				"  \"--datalake-formats\": \"iceberg\"\n",
				"}"
			]
		},
		{
			"cell_type": "code",
			"execution_count": 1,
			"id": "afb16692-00c7-4639-8d91-c20297a59a56",
			"metadata": {
				"tags": [],
				"trusted": true,
				"vscode": {
					"languageId": "python_glue_session"
				}
			},
			"outputs": [
				{
					"name": "stdout",
					"output_type": "stream",
					"text": [
						"Trying to create a Glue session for the kernel.\n",
						"Session Type: glueetl\n",
						"Worker Type: G.1X\n",
						"Number of Workers: 2\n",
						"Idle Timeout: 60\n",
						"Session ID: native-iceberg-sql--0edfbc7f-45b8-4028-b878-01228c3e9efb\n",
						"Applying the following default arguments:\n",
						"--glue_kernel_version 1.0.8\n",
						"--enable-glue-datacatalog true\n",
						"--conf spark.sql.extensions=org.apache.iceberg.spark.extensions.IcebergSparkSessionExtensions\n",
						"--datalake-formats iceberg\n",
						"Waiting for session native-iceberg-sql--0edfbc7f-45b8-4028-b878-01228c3e9efb to get into ready status...\n",
						"Session native-iceberg-sql--0edfbc7f-45b8-4028-b878-01228c3e9efb has been created.\n",
						"\n"
					]
				}
			],
			"source": [
				"from pyspark.sql import SparkSession\n",
				"\n",
				"spark = SparkSession.builder \\\n",
				"    .appName(\"IcebergGlueExample\") \\\n",
				"    .config(\"spark.sql.catalog.glue_catalog\", \"org.apache.iceberg.spark.SparkCatalog\") \\\n",
				"    .config(\"spark.sql.catalog.glue_catalog.catalog-impl\", \"org.apache.iceberg.aws.glue.GlueCatalog\") \\\n",
				"    .config(\"spark.sql.catalog.glue_catalog.io-impl\", \"org.apache.iceberg.aws.s3.S3FileIO\") \\\n",
				"    .config(\"spark.sql.catalog.glue_catalog.warehouse\", \"s3://imba-chien/iceberg-warehouse/\") \\\n",
				"    .getOrCreate()"
			]
		},
		{
			"cell_type": "code",
			"execution_count": 10,
			"id": "82ca5ba6-e704-46ab-873f-526ca258aef7",
			"metadata": {
				"tags": [],
				"trusted": true,
				"vscode": {
					"languageId": "python_glue_session"
				}
			},
			"outputs": [
				{
					"name": "stdout",
					"output_type": "stream",
					"text": [
						"\n"
					]
				}
			],
			"source": [
				"products_df = spark.read.table(f\"spark_catalog.imba.products\").filter(\"product_id IS NOT NULL\")"
			]
		},
		{
			"cell_type": "code",
			"execution_count": 12,
			"id": "68f31297-0bca-4a13-9b19-1330e7f6bc9b",
			"metadata": {
				"tags": [],
				"trusted": true,
				"vscode": {
					"languageId": "python_glue_session"
				}
			},
			"outputs": [
				{
					"name": "stdout",
					"output_type": "stream",
					"text": [
						"+----------+-----------------------------------------------------------------+--------+-------------+\n",
						"|product_id|product_name                                                     |aisle_id|department_id|\n",
						"+----------+-----------------------------------------------------------------+--------+-------------+\n",
						"|1         |Chocolate Sandwich Cookies                                       |61      |19           |\n",
						"|2         |All-Seasons Salt                                                 |104     |13           |\n",
						"|3         |Robust Golden Unsweetened Oolong Tea                             |94      |7            |\n",
						"|4         |Smart Ones Classic Favorites Mini Rigatoni With Vodka Cream Sauce|38      |1            |\n",
						"|5         |Green Chile Anytime Sauce                                        |5       |13           |\n",
						"+----------+-----------------------------------------------------------------+--------+-------------+\n",
						"only showing top 5 rows\n"
					]
				}
			],
			"source": [
				"products_df.show(5, truncate=False)"
			]
		},
		{
			"cell_type": "code",
			"execution_count": 19,
			"id": "d7e47f99-8655-4d73-9d43-e7c5c7655a19",
			"metadata": {
				"tags": [],
				"trusted": true,
				"vscode": {
					"languageId": "python_glue_session"
				}
			},
			"outputs": [
				{
					"name": "stdout",
					"output_type": "stream",
					"text": [
						"+----------+-----------------------------------------------------------------+--------+-------------+--------------------+\n",
						"|product_id|product_name                                                     |aisle_id|department_id|updated_at          |\n",
						"+----------+-----------------------------------------------------------------+--------+-------------+--------------------+\n",
						"|1         |Chocolate Sandwich Cookies                                       |61      |19           |1.7525519196447296E9|\n",
						"|2         |All-Seasons Salt                                                 |104     |13           |1.7525519196447296E9|\n",
						"|3         |Robust Golden Unsweetened Oolong Tea                             |94      |7            |1.7525519196447296E9|\n",
						"|4         |Smart Ones Classic Favorites Mini Rigatoni With Vodka Cream Sauce|38      |1            |1.7525519196447296E9|\n",
						"|5         |Green Chile Anytime Sauce                                        |5       |13           |1.7525519196447296E9|\n",
						"+----------+-----------------------------------------------------------------+--------+-------------+--------------------+\n",
						"only showing top 5 rows\n"
					]
				}
			],
			"source": [
				"import time\n",
				"from pyspark.sql.functions import lit\n",
				"ut = time.time()\n",
				"\n",
				"products_df = products_df.withColumn(\"updated_at\", lit(ut))\n",
				"products_df.show(5, truncate=False)\n"
			]
		},
		{
			"cell_type": "code",
			"execution_count": 20,
			"id": "51dab0ad-4e5d-4692-bb25-65d0538ca0db",
			"metadata": {
				"tags": [],
				"trusted": true,
				"vscode": {
					"languageId": "python_glue_session"
				}
			},
			"outputs": [
				{
					"name": "stdout",
					"output_type": "stream",
					"text": [
						"\n"
					]
				}
			],
			"source": [
				"products_df.writeTo(\"glue_catalog.imba_iceberg.products_iceberg\") \\\n",
				"    .using(\"iceberg\") \\\n",
				"    .tableProperty(\"format-version\", \"2\") \\\n",
				"    .createOrReplace()"
			]
		},
		{
			"cell_type": "code",
			"execution_count": 21,
			"id": "2c3f9c63-bb19-42e5-a9cc-01f1f1edd8a7",
			"metadata": {
				"tags": [],
				"trusted": true,
				"vscode": {
					"languageId": "python_glue_session"
				}
			},
			"outputs": [
				{
					"name": "stdout",
					"output_type": "stream",
					"text": [
						"+----------+--------------------+--------+-------------+--------------------+\n",
						"|product_id|        product_name|aisle_id|department_id|          updated_at|\n",
						"+----------+--------------------+--------+-------------+--------------------+\n",
						"|         1|Chocolate Sandwic...|      61|           19|1.7525519196447296E9|\n",
						"|         2|    All-Seasons Salt|     104|           13|1.7525519196447296E9|\n",
						"|         3|Robust Golden Uns...|      94|            7|1.7525519196447296E9|\n",
						"|         4|Smart Ones Classi...|      38|            1|1.7525519196447296E9|\n",
						"|         5|Green Chile Anyti...|       5|           13|1.7525519196447296E9|\n",
						"|         6|        Dry Nose Oil|      11|           11|1.7525519196447296E9|\n",
						"|         7|Pure Coconut Wate...|      98|            7|1.7525519196447296E9|\n",
						"|         8|Cut Russet Potato...|     116|            1|1.7525519196447296E9|\n",
						"|         9|Light Strawberry ...|     120|           16|1.7525519196447296E9|\n",
						"|        10|Sparkling Orange ...|     115|            7|1.7525519196447296E9|\n",
						"|        11|   Peach Mango Juice|      31|            7|1.7525519196447296E9|\n",
						"|        12|Chocolate Fudge L...|     119|            1|1.7525519196447296E9|\n",
						"|        13|   Saline Nasal Mist|      11|           11|1.7525519196447296E9|\n",
						"|        14|Fresh Scent Dishw...|      74|           17|1.7525519196447296E9|\n",
						"|        15|Overnight Diapers...|      56|           18|1.7525519196447296E9|\n",
						"|        16|Mint Chocolate Fl...|     103|           19|1.7525519196447296E9|\n",
						"|        17|   Rendered Duck Fat|      35|           12|1.7525519196447296E9|\n",
						"|        18|Pizza for One Sup...|      79|            1|1.7525519196447296E9|\n",
						"|        19|Gluten Free Quino...|      63|            9|1.7525519196447296E9|\n",
						"|        20|Pomegranate Cranb...|      98|            7|1.7525519196447296E9|\n",
						"+----------+--------------------+--------+-------------+--------------------+\n",
						"only showing top 20 rows\n"
					]
				}
			],
			"source": [
				"%%sql\n",
				"SELECT * FROM glue_catalog.imba_iceberg.products_iceberg"
			]
		},
		{
			"cell_type": "markdown",
			"id": "018666b4-6398-478f-bdd3-01b6fba5ddf2",
			"metadata": {},
			"source": [
				"## Upsert records into Iceberg table"
			]
		},
		{
			"cell_type": "code",
			"execution_count": 22,
			"id": "771ac142-4b28-4709-8ff2-ebb8b90dbc19",
			"metadata": {
				"tags": [],
				"trusted": true,
				"vscode": {
					"languageId": "python_glue_session"
				}
			},
			"outputs": [
				{
					"name": "stdout",
					"output_type": "stream",
					"text": [
						"\n"
					]
				}
			],
			"source": [
				"from pyspark.sql import Row\n",
				"\n",
				"ut = time.time()\n",
				"\n",
				"product_updates = [\n",
				"    {'product_id': 31, 'product_name': 'Heater', 'aisle_id': 17, 'department_id': 19, 'updated_at': ut}, # Update\n",
				"    {'product_id': 32, 'product_name': 'Chair', 'aisle_id': 131, 'department_id': 19, 'updated_at': ut} # Insert\n",
				"]\n",
				"df_product_updates = spark.createDataFrame(Row(**x) for x in product_updates)"
			]
		},
		{
			"cell_type": "code",
			"execution_count": 23,
			"id": "e647f416-de20-4a33-90b3-7a95410d506f",
			"metadata": {
				"tags": [],
				"trusted": true,
				"vscode": {
					"languageId": "python_glue_session"
				}
			},
			"outputs": [
				{
					"name": "stdout",
					"output_type": "stream",
					"text": [
						"\n"
					]
				}
			],
			"source": [
				"df_product_updates.createOrReplaceTempView(f\"tmp_products_updates\")"
			]
		},
		{
			"cell_type": "code",
			"execution_count": 25,
			"id": "4aa0c2d7-3e44-4c1d-b265-54f712ff7c99",
			"metadata": {
				"tags": [],
				"trusted": true,
				"vscode": {
					"languageId": "python_glue_session"
				}
			},
			"outputs": [
				{
					"name": "stdout",
					"output_type": "stream",
					"text": [
						"DataFrame[]\n"
					]
				}
			],
			"source": [
				"query = f\"\"\"\n",
				"MERGE INTO glue_catalog.imba_iceberg.products_iceberg AS t\n",
				"USING (SELECT * FROM tmp_products_updates) AS u\n",
				"ON t.product_id = u.product_id\n",
				"WHEN MATCHED THEN UPDATE SET t.product_name = u.product_name, t.aisle_id = u.aisle_id, t.department_id = u.department_id, t.updated_at = u.updated_at\n",
				"WHEN NOT MATCHED THEN INSERT *\n",
				"\"\"\"\n",
				"spark.sql(query)"
			]
		},
		{
			"cell_type": "code",
			"execution_count": 34,
			"id": "d0d0d8d8-11de-4458-9b52-615c6cf25048",
			"metadata": {
				"tags": [],
				"trusted": true,
				"vscode": {
					"languageId": "python_glue_session"
				}
			},
			"outputs": [
				{
					"name": "stdout",
					"output_type": "stream",
					"text": [
						"+----------+------------+--------+-------------+--------------------+\n",
						"|product_id|product_name|aisle_id|department_id|          updated_at|\n",
						"+----------+------------+--------+-------------+--------------------+\n",
						"|        31|      Heater|      17|           19|1.7525520311724865E9|\n",
						"|        32|       Chair|     131|           19|1.7525520311724865E9|\n",
						"+----------+------------+--------+-------------+--------------------+\n"
					]
				}
			],
			"source": [
				"%%sql\n",
				"SELECT * FROM glue_catalog.imba_iceberg.products_iceberg WHERE product_id == 31 OR product_id == 32"
			]
		},
		{
			"cell_type": "code",
			"execution_count": 35,
			"id": "9202b4fe-a354-4dcf-8cc2-815c9a7e2046",
			"metadata": {
				"tags": [],
				"trusted": true,
				"vscode": {
					"languageId": "python_glue_session"
				}
			},
			"outputs": [
				{
					"name": "stdout",
					"output_type": "stream",
					"text": [
						"++\n",
						"||\n",
						"++\n",
						"++\n"
					]
				}
			],
			"source": [
				"%%sql\n",
				"DELETE FROM glue_catalog.imba_iceberg.products_iceberg WHERE product_id == 31"
			]
		},
		{
			"cell_type": "code",
			"execution_count": 36,
			"id": "9299552a-9456-4ff4-aa80-c8afef0f387e",
			"metadata": {
				"tags": [],
				"trusted": true,
				"vscode": {
					"languageId": "python_glue_session"
				}
			},
			"outputs": [
				{
					"name": "stdout",
					"output_type": "stream",
					"text": [
						"+----------+--------------------+--------+-------------+--------------------+\n",
						"|product_id|        product_name|aisle_id|department_id|          updated_at|\n",
						"+----------+--------------------+--------+-------------+--------------------+\n",
						"|        33|Organic Spaghetti...|     131|            9|1.7525519196447296E9|\n",
						"|        34|Peanut Butter Cereal|     121|           14|1.7525519196447296E9|\n",
						"|        32|               Chair|     131|           19|1.7525520311724865E9|\n",
						"+----------+--------------------+--------+-------------+--------------------+\n"
					]
				}
			],
			"source": [
				"%%sql\n",
				"SELECT * FROM glue_catalog.imba_iceberg.products_iceberg WHERE product_id > 30 AND product_id < 35"
			]
		},
		{
			"cell_type": "markdown",
			"id": "6389bdac-c2f1-4c7e-a6e0-1ca591174ff3",
			"metadata": {
				"tags": []
			},
			"source": [
				"## View History and Snapshots"
			]
		},
		{
			"cell_type": "code",
			"execution_count": 37,
			"id": "2b8686fe-d1e3-4e9e-87ba-82a4f27aa4b9",
			"metadata": {
				"tags": [],
				"trusted": true,
				"vscode": {
					"languageId": "python_glue_session"
				}
			},
			"outputs": [
				{
					"name": "stdout",
					"output_type": "stream",
					"text": [
						"+--------------------+-------------------+-------------------+-------------------+\n",
						"|     made_current_at|        snapshot_id|          parent_id|is_current_ancestor|\n",
						"+--------------------+-------------------+-------------------+-------------------+\n",
						"|2025-07-15 03:53:...|4784070957029174251|               NULL|              false|\n",
						"|2025-07-15 03:59:...|3377752431076810215|               NULL|               true|\n",
						"|2025-07-15 04:03:...|8525553201731189683|3377752431076810215|               true|\n",
						"|2025-07-15 04:08:...|2771212789558647808|8525553201731189683|               true|\n",
						"+--------------------+-------------------+-------------------+-------------------+\n"
					]
				}
			],
			"source": [
				"%%sql\n",
				"SELECT * FROM glue_catalog.imba_iceberg.products_iceberg.history"
			]
		},
		{
			"cell_type": "code",
			"execution_count": 38,
			"id": "e9ba08ff-38d3-4a03-a4fb-ca919e502b29",
			"metadata": {
				"tags": [],
				"trusted": true,
				"vscode": {
					"languageId": "python_glue_session"
				}
			},
			"outputs": [
				{
					"name": "stdout",
					"output_type": "stream",
					"text": [
						"+--------------------+-------------------+-------------------+---------+--------------------+--------------------+\n",
						"|        committed_at|        snapshot_id|          parent_id|operation|       manifest_list|             summary|\n",
						"+--------------------+-------------------+-------------------+---------+--------------------+--------------------+\n",
						"|2025-07-15 03:53:...|4784070957029174251|               NULL|   append|s3://imba-chien/i...|{spark.app.id -> ...|\n",
						"|2025-07-15 03:59:...|3377752431076810215|               NULL|   append|s3://imba-chien/i...|{spark.app.id -> ...|\n",
						"|2025-07-15 04:03:...|8525553201731189683|3377752431076810215|overwrite|s3://imba-chien/i...|{spark.app.id -> ...|\n",
						"|2025-07-15 04:08:...|2771212789558647808|8525553201731189683|overwrite|s3://imba-chien/i...|{spark.app.id -> ...|\n",
						"+--------------------+-------------------+-------------------+---------+--------------------+--------------------+\n"
					]
				}
			],
			"source": [
				"%%sql\n",
				"SELECT * FROM glue_catalog.imba_iceberg.products_iceberg.snapshots"
			]
		},
		{
			"cell_type": "code",
			"execution_count": 39,
			"id": "546fcde9-52b8-4c2e-9415-70ba15015845",
			"metadata": {
				"tags": [],
				"trusted": true,
				"vscode": {
					"languageId": "python_glue_session"
				}
			},
			"outputs": [
				{
					"name": "stdout",
					"output_type": "stream",
					"text": [
						"+--------------------+---------+-------------------+-------------------+---------------------+\n",
						"|     made_current_at|operation|        snapshot_id|is_current_ancestor|summary[spark.app.id]|\n",
						"+--------------------+---------+-------------------+-------------------+---------------------+\n",
						"|2025-07-15 03:32:...|   append|4023877369599476016|               true| spark-application...|\n",
						"|2025-07-15 03:33:...|overwrite|3428421400707676683|               true| spark-application...|\n",
						"|2025-07-15 03:35:...|overwrite|4928947529892970448|               true| spark-application...|\n",
						"+--------------------+---------+-------------------+-------------------+---------------------+\n"
					]
				}
			],
			"source": [
				"%%sql\n",
				"SELECT h.made_current_at, s.operation, h.snapshot_id, h.is_current_ancestor, s.summary[\"spark.app.id\"] \n",
				"FROM glue_catalog.test.products_iceberg.history h \n",
				"JOIN glue_catalog.test.products_iceberg.snapshots s  \n",
				"ON h.snapshot_id = s.snapshot_id \n",
				"ORDER BY made_current_at"
			]
		},
		{
			"cell_type": "code",
			"execution_count": 18,
			"id": "55f205c2-6ff9-4ec2-b72b-ca76cae198b2",
			"metadata": {
				"tags": [],
				"trusted": true,
				"vscode": {
					"languageId": "python_glue_session"
				}
			},
			"outputs": [
				{
					"name": "stdout",
					"output_type": "stream",
					"text": [
						"Stopping session: native-iceberg-sql--0edfbc7f-45b8-4028-b878-01228c3e9efb\n",
						"Stopped session.\n"
					]
				}
			],
			"source": [
				"%stop_session"
			]
		},
		{
			"cell_type": "code",
			"execution_count": null,
			"id": "f10bb148-11ff-4134-a2b3-a9592809a497",
			"metadata": {
				"vscode": {
					"languageId": "python_glue_session"
				}
			},
			"outputs": [],
			"source": []
		}
	],
	"metadata": {
		"kernelspec": {
			"display_name": "Glue PySpark",
			"language": "python",
			"name": "glue_pyspark"
		},
		"language_info": {
			"codemirror_mode": {
				"name": "python",
				"version": 3
			},
			"file_extension": ".py",
			"mimetype": "text/x-python",
			"name": "Python_Glue_Session",
			"pygments_lexer": "python3"
		}
	},
	"nbformat": 4,
	"nbformat_minor": 5
}
